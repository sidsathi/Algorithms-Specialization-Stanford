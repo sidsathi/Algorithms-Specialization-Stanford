{
 "cells": [
  {
   "cell_type": "code",
   "execution_count": 59,
   "metadata": {},
   "outputs": [],
   "source": [
    "from math import ceil, floor \n",
    "\n",
    "def karatsuba(x,y): \n",
    "    \n",
    "    if x < 10 and y < 10: \n",
    "        return (x * y)\n",
    "    else: \n",
    "        n = max(len(str(x)), len(str(y)))\n",
    "        m = int(ceil(float(n)//2)) #ceil rounds up at all times\n",
    "                \n",
    "                \n",
    "        x_H = int(floor(x//10**m))\n",
    "        x_L = int(x % (10**m))\n",
    "                \n",
    "        y_H = int(floor(y//10**m))\n",
    "        y_L = int(y % (10**m))\n",
    "        \n",
    "        #recursive steps \n",
    "        a = karatsuba(x_H, y_H)\n",
    "        d = karatsuba(x_L, y_L)\n",
    "        e = karatsuba(x_H + x_L, y_H + y_L) - a - d \n",
    "        \n",
    "        return ((a*(10**(m*2))) + ((e *(10**m))) + d)\n",
    "        "
   ]
  },
  {
   "cell_type": "code",
   "execution_count": 60,
   "metadata": {},
   "outputs": [
    {
     "data": {
      "text/plain": [
       "8539734222673567065463550869546574495034888535765114961879601127067743044893204848617875072216249073013374895871952806582723184"
      ]
     },
     "execution_count": 60,
     "metadata": {},
     "output_type": "execute_result"
    }
   ],
   "source": [
    "x = 3141592653589793238462643383279502884197169399375105820974944592\n",
    "y = 2718281828459045235360287471352662497757247093699959574966967627\n",
    "\n",
    "karatsuba(x,y)"
   ]
  }
 ],
 "metadata": {
  "kernelspec": {
   "display_name": "Python 3",
   "language": "python",
   "name": "python3"
  },
  "language_info": {
   "codemirror_mode": {
    "name": "ipython",
    "version": 3
   },
   "file_extension": ".py",
   "mimetype": "text/x-python",
   "name": "python",
   "nbconvert_exporter": "python",
   "pygments_lexer": "ipython3",
   "version": "3.6.3"
  }
 },
 "nbformat": 4,
 "nbformat_minor": 2
}
